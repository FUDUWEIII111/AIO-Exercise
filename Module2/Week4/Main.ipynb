{
 "cells": [
  {
   "cell_type": "code",
   "execution_count": 1,
   "metadata": {},
   "outputs": [],
   "source": [
    "import numpy as np"
   ]
  },
  {
   "cell_type": "code",
   "execution_count": 5,
   "metadata": {},
   "outputs": [],
   "source": [
    "\"\"\"\n",
    "compute the mean of a list of numbers, using two ways:\n",
    "1. using numpy's mean function\n",
    "2. using numpy's sum function and dividing by the length of the list\n",
    "\"\"\"\n",
    "def compute_mean(list):\n",
    "    total = np.sum(list)\n",
    "    return total / len(list)\n",
    "    #return np.mean(list)"
   ]
  },
  {
   "cell_type": "code",
   "execution_count": 6,
   "metadata": {},
   "outputs": [
    {
     "name": "stdout",
     "output_type": "stream",
     "text": [
      "1.8\n"
     ]
    }
   ],
   "source": [
    "\"\"\"Question 1\"\"\"\n",
    "list1 = [2, 0, 2, 2, 7, 4, -2, 5, -1, -1]\n",
    "print(compute_mean(list1))"
   ]
  },
  {
   "cell_type": "markdown",
   "metadata": {},
   "source": [
    "---"
   ]
  },
  {
   "cell_type": "code",
   "execution_count": 22,
   "metadata": {},
   "outputs": [],
   "source": [
    "\"\"\"\n",
    "compute median of a list of number, using two ways:\n",
    "1. using numpy's median funtion\n",
    "2. using the formula for median of a list of numbers:\n",
    "    - sort the list\n",
    "    - if the size of the list is odd, return the middle element\n",
    "    - if the size of the list is even, return the average of the two middle elements\n",
    "\"\"\"\n",
    "\n",
    "def compute_median(list):\n",
    "    size = len(list)\n",
    "    list = np.sort(list)\n",
    "    if (size % 2 == 0):\n",
    "        return (list[size//2 - 1] + list[size//2]) / 2\n",
    "    else:\n",
    "        return list[size//2 + 1]\n",
    "    \n",
    "    # return np.median(list)"
   ]
  },
  {
   "cell_type": "code",
   "execution_count": 23,
   "metadata": {},
   "outputs": [
    {
     "name": "stdout",
     "output_type": "stream",
     "text": [
      "4.5\n"
     ]
    }
   ],
   "source": [
    "\"\"\"Question 2\"\"\"\n",
    "\n",
    "list2 = [1, 5, 4, 4, 9, 13]\n",
    "print(compute_median(list2))"
   ]
  },
  {
   "cell_type": "markdown",
   "metadata": {},
   "source": [
    "---"
   ]
  },
  {
   "cell_type": "code",
   "execution_count": 24,
   "metadata": {},
   "outputs": [],
   "source": [
    "\"\"\"\n",
    "compute the standard deviation of a list of numbers, using two ways:\n",
    "1. using numpy's std function\n",
    "2. using the formula for standard deviation of a list of numbers:\n",
    "    - compute the mean of the list\n",
    "    - for each element in the list, subtract the mean and square the result\n",
    "    - sum all the squared differences\n",
    "    - divide the sum by the length of the list\n",
    "    - return the square root of the result  \n",
    "\"\"\"\n",
    "\n",
    "def compute_std(list):\n",
    "    mean = compute_mean(list)\n",
    "    variance = 0\n",
    "    for i in list: \n",
    "        variance += (i - mean)**2\n",
    "    \n",
    "    return np.sqrt(variance / len(list))\n",
    "    #return np.std(list)"
   ]
  },
  {
   "cell_type": "code",
   "execution_count": 25,
   "metadata": {},
   "outputs": [
    {
     "name": "stdout",
     "output_type": "stream",
     "text": [
      "8.32666399786453\n"
     ]
    }
   ],
   "source": [
    "\"\"\"Question 3\"\"\"\n",
    "list3 = [171, 176, 155, 167, 169, 182]\n",
    "print(compute_std(list3))"
   ]
  },
  {
   "cell_type": "markdown",
   "metadata": {},
   "source": [
    "---"
   ]
  },
  {
   "cell_type": "code",
   "execution_count": null,
   "metadata": {},
   "outputs": [],
   "source": [
    "def compute_correlation_cofficient(x, y):\n",
    "    N = len(x)\n",
    "    numerator = 0\n",
    "    denominator = 0\n",
    "\n",
    "    return \n"
   ]
  }
 ],
 "metadata": {
  "kernelspec": {
   "display_name": "general-3.11",
   "language": "python",
   "name": "python3"
  },
  "language_info": {
   "codemirror_mode": {
    "name": "ipython",
    "version": 3
   },
   "file_extension": ".py",
   "mimetype": "text/x-python",
   "name": "python",
   "nbconvert_exporter": "python",
   "pygments_lexer": "ipython3",
   "version": "3.11.9"
  }
 },
 "nbformat": 4,
 "nbformat_minor": 2
}
