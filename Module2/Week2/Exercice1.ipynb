{
 "cells": [
  {
   "cell_type": "code",
   "execution_count": 1,
   "metadata": {},
   "outputs": [],
   "source": [
    "import numpy as np"
   ]
  },
  {
   "cell_type": "markdown",
   "metadata": {},
   "source": [
    "---\n",
    "**`compute_vector_length` compute the length of vector**\n",
    "- input: vector1 and vector2\n",
    "- output: dot product of two vector\n",
    "\n",
    "> *Note: two vector must have the same shape*\n",
    "\n"
   ]
  },
  {
   "cell_type": "code",
   "execution_count": 2,
   "metadata": {},
   "outputs": [],
   "source": [
    "def compute_vector_length(vector):\n",
    "    return np.linalg.norm(vector)"
   ]
  },
  {
   "cell_type": "markdown",
   "metadata": {},
   "source": [
    "---\n",
    "**`calculate_dot_product` calculate the dot product of two vectors**\n",
    "- input: vector1 and vector2\n",
    "- output: dot product of two vector \n",
    "\n",
    "> *Note: two vector must have the same shape*\n",
    "\n"
   ]
  },
  {
   "cell_type": "code",
   "execution_count": 18,
   "metadata": {},
   "outputs": [],
   "source": [
    "def calculate_dot_product(vector1, vector2):\n",
    "    return np.multiply(vector1, vector2)"
   ]
  },
  {
   "cell_type": "markdown",
   "metadata": {},
   "source": [
    "---\n",
    "**`matrix_multiply_vector` compute the multiplication of a vector and a matrix**\n",
    "- input: vector and matrix\n",
    "- output: matrix with the shape (matrix columns, vector rows)\n",
    "\n",
    "> *Note: The number of matrix's columns and vector's rows must be the same*"
   ]
  },
  {
   "cell_type": "code",
   "execution_count": 4,
   "metadata": {},
   "outputs": [],
   "source": [
    "def matrix_multiply_vector(matrix, vector):\n",
    "    return np.dot(matrix, vector)"
   ]
  },
  {
   "cell_type": "markdown",
   "metadata": {},
   "source": [
    "---\n",
    "**`matrix_multiply_matrix` Compute the multiplication of two matrixs**\n",
    "- input: two matrixs\n",
    "- output: matrix with the shape (matrix1 columns, matrix2 rows) \n",
    "> *Note: The number of matrix1's columns and matrix2's rows must be the same*"
   ]
  },
  {
   "cell_type": "code",
   "execution_count": 5,
   "metadata": {},
   "outputs": [],
   "source": [
    "def matrix_multiply_matrix(matrix1, matrix2):\n",
    "    return np.dot(matrix1, matrix2)"
   ]
  },
  {
   "cell_type": "markdown",
   "metadata": {},
   "source": [
    "---\n",
    "**`inverse_matrix` computes the inverse matrix of a 2x2 matrix**\n",
    "\n",
    "$$\n",
    "\\mathbf{A} = \\begin{pmatrix}\n",
    "a & b \\\\\n",
    "c & d\n",
    "\\end{pmatrix}\n",
    "$$\n",
    "\n",
    "- **Input:** a 2x2 matrix\n",
    "- **Output:** the inverse matrix of the input matrix \\(\\mathbf{A}\\)\n",
    "- **Procedure:**\n",
    "  1. Calculate the `determinant` of the input matrix by using the formula:  \n",
    "     \n",
    "      `det(A) = ad - bc`\n",
    "     \n",
    "     or in numpy we have the built-in function:  \n",
    "\n",
    "     `np.linalg.det(matrix)`  \n",
    "\n",
    "  \n",
    "  2. If det(A) ≠ 0, A is invertible:  \n",
    "\n",
    "      $$\n",
    "      \\mathbf{A}^{-1} = \\frac{1}{\\det(\\mathbf{A})} \\begin{bmatrix} d & -b \\\\ -c & a \\end{bmatrix}\n",
    "      $$\n",
    "    \n",
    "     or in numpy we have the build-in function:\n",
    "    \n",
    "     `np.linalg.det(matrix)`  \n",
    "\n",
    "\n"
   ]
  },
  {
   "cell_type": "code",
   "execution_count": 6,
   "metadata": {},
   "outputs": [],
   "source": [
    "def inverse_matrix(matrix):\n",
    "    if np.linalg.det(matrix) == 0:\n",
    "        return \"This matrix cannot be inverted\"\n",
    "    return np.linalg.inv(matrix)"
   ]
  },
  {
   "cell_type": "markdown",
   "metadata": {},
   "source": [
    "---\n",
    "### Main  "
   ]
  },
  {
   "cell_type": "code",
   "execution_count": 22,
   "metadata": {},
   "outputs": [
    {
     "name": "stdout",
     "output_type": "stream",
     "text": [
      "result_1a (compute_vector_length): 3.7416573867739413\n",
      "\n",
      "result_1b (calculate_dot_product): [[10 22 36]]\n",
      "\n",
      "result_1c (matrix_multiply_vector): \n",
      "[[14 27 12]\n",
      " [32 61 34]]\n",
      "\n",
      "result_1d (matrix_multiply_matrix): \n",
      "[[183 204 225 246 267 288]\n",
      " [ 88 104 120 136 152 168]]\n",
      "\n",
      "result_1e (matrix_multiply_matrix): \n",
      "[[-2.   1. ]\n",
      " [ 1.5 -0.5]]\n",
      "\n"
     ]
    }
   ],
   "source": [
    "vector1 = np.array([[1, 2, 3]])\n",
    "vector2 = np.array([10, 11, 12])\n",
    "vector3 = np.array([[1, 2], [3, 4]])\n",
    "matrix1 = np.array([[4, 7, 10], [5, 10, 1]])\n",
    "matrix2 = np.array([[1, 2, 3, 4, 5, 6], [7, 8, 9, 10, 11, 12], [13, 14, 15, 16, 17, 18]])\n",
    "square_matrix_2x2 = [[1, 2], [3, 4]]\n",
    "result_1a = compute_vector_length(vector1)\n",
    "result_1b = calculate_dot_product(vector1, vector2)\n",
    "result_1c = matrix_multiply_vector(matrix1, vector3)\n",
    "result_1d = matrix_multiply_matrix(matrix1, matrix2)\n",
    "result_1e = inverse_matrix(square_matrix_2x2)\n",
    "print(f'result_1a (compute_vector_length): {result_1a}\\n')\n",
    "print(f'result_1b (calculate_dot_product): {result_1b}\\n')\n",
    "print(f'result_1c (matrix_multiply_vector): \\n{result_1c}\\n')\n",
    "print(f'result_1d (matrix_multiply_matrix): \\n{result_1d}\\n')\n",
    "print(f'result_1e (matrix_multiply_matrix): \\n{result_1e}\\n')"
   ]
  }
 ],
 "metadata": {
  "kernelspec": {
   "display_name": "general-3.11",
   "language": "python",
   "name": "python3"
  },
  "language_info": {
   "codemirror_mode": {
    "name": "ipython",
    "version": 3
   },
   "file_extension": ".py",
   "mimetype": "text/x-python",
   "name": "python",
   "nbconvert_exporter": "python",
   "pygments_lexer": "ipython3",
   "version": "3.11.9"
  }
 },
 "nbformat": 4,
 "nbformat_minor": 2
}
