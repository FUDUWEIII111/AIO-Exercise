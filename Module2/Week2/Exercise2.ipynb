{
 "cells": [
  {
   "cell_type": "code",
   "execution_count": 4,
   "metadata": {},
   "outputs": [],
   "source": [
    "import numpy as np"
   ]
  },
  {
   "cell_type": "code",
   "execution_count": 8,
   "metadata": {},
   "outputs": [],
   "source": [
    "def compute_eigenvalues_eigenvectors(matrix):\n",
    "    eigenvalue, eigenvector = np.linalg.eig(matrix)\n",
    "    return eigenvalue, eigenvector"
   ]
  },
  {
   "cell_type": "code",
   "execution_count": 9,
   "metadata": {},
   "outputs": [
    {
     "data": {
      "text/plain": [
       "(array([1. , 0.7]),\n",
       " array([[ 0.89442719, -0.70710678],\n",
       "        [ 0.4472136 ,  0.70710678]]))"
      ]
     },
     "execution_count": 9,
     "metadata": {},
     "output_type": "execute_result"
    }
   ],
   "source": [
    "compute_eigenvalues_eigenvectors(np.array([[0.9, 0.2], [0.1, 0.8]]))"
   ]
  }
 ],
 "metadata": {
  "kernelspec": {
   "display_name": "general-3.11",
   "language": "python",
   "name": "python3"
  },
  "language_info": {
   "codemirror_mode": {
    "name": "ipython",
    "version": 3
   },
   "file_extension": ".py",
   "mimetype": "text/x-python",
   "name": "python",
   "nbconvert_exporter": "python",
   "pygments_lexer": "ipython3",
   "version": "3.11.9"
  }
 },
 "nbformat": 4,
 "nbformat_minor": 2
}
