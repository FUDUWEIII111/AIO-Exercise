{
 "cells": [
  {
   "cell_type": "code",
   "execution_count": null,
   "metadata": {},
   "outputs": [],
   "source": [
    "#import nessessary libraries\n",
    "import numpy as np \n",
    "import pandas as pd\n",
    "import matplotlib.pyplot as plt"
   ]
  },
  {
   "cell_type": "markdown",
   "metadata": {},
   "source": [
    "# 1. Read the data from .csv file"
   ]
  },
  {
   "cell_type": "code",
   "execution_count": null,
   "metadata": {},
   "outputs": [],
   "source": [
    "\"\"\"\n",
    "- 1st way: data = pd.read_csv('path/to/your/file.csv')\n",
    "- 2nd way: data_indexed = pd.read_csv('path/to/your/file.csv', index_col='column_name')\n",
    "  The value in index_col must unique \n",
    "\"\"\"\n",
    "dataset_path = 'IMDB-Movie-Data.csv'\n",
    "data = pd.read_csv(dataset_path) # 1st way\n",
    "data_indexed = pd.read_csv(dataset_path, index_col='Title') # 2nd way\n"
   ]
  },
  {
   "cell_type": "markdown",
   "metadata": {},
   "source": [
    "# 2. View the data"
   ]
  },
  {
   "cell_type": "code",
   "execution_count": null,
   "metadata": {},
   "outputs": [],
   "source": [
    "\"\"\"\n",
    "- data.head(): show the first 5 rows of the data\n",
    "\"\"\"\n",
    "data.head()"
   ]
  },
  {
   "cell_type": "markdown",
   "metadata": {},
   "source": [
    "# 3. Understand some basic information about the data"
   ]
  },
  {
   "cell_type": "code",
   "execution_count": null,
   "metadata": {},
   "outputs": [],
   "source": [
    "data.info()"
   ]
  },
  {
   "cell_type": "code",
   "execution_count": null,
   "metadata": {},
   "outputs": [],
   "source": [
    "data.describe()"
   ]
  },
  {
   "cell_type": "markdown",
   "metadata": {},
   "source": [
    "# 4. Data selection - Indexing and Slicing data"
   ]
  },
  {
   "cell_type": "code",
   "execution_count": null,
   "metadata": {},
   "outputs": [],
   "source": [
    "\"\"\"\n",
    "From the data, we can extract any column to become a Series or Dataframe, depend on the way we extract it\n",
    "\"\"\"\n",
    "\n",
    "data['Genre'] # extract the Genre column to become a Series"
   ]
  },
  {
   "cell_type": "code",
   "execution_count": null,
   "metadata": {},
   "outputs": [],
   "source": [
    "data[['Genre']] # Extract the Genre column to become a Dataframe"
   ]
  },
  {
   "cell_type": "code",
   "execution_count": null,
   "metadata": {},
   "outputs": [],
   "source": [
    "\"\"\"\n",
    "We can alse choose and extract multiple columns to become a Dataframe\n",
    "\"\"\"\n",
    "\n",
    "some_cols = data[['Title', 'Genre', 'Actors', 'Director', 'Rating']] # choose the column manually\n",
    "print(some_cols)"
   ]
  },
  {
   "cell_type": "code",
   "execution_count": null,
   "metadata": {},
   "outputs": [],
   "source": [
    "data.iloc[10:15][['Title', 'Genre', 'Actors', 'Director', 'Rating']] # choose the column by index using iloc"
   ]
  },
  {
   "cell_type": "markdown",
   "metadata": {},
   "source": [
    "# 5. Data selection - Based on Conditional filtering"
   ]
  },
  {
   "cell_type": "code",
   "execution_count": null,
   "metadata": {},
   "outputs": [],
   "source": [
    "\"\"\"\n",
    "Take movies from 2010 to 2015 with rating < 6.0 & revenue > 95% of the data\n",
    "\"\"\"\n",
    "\n",
    "data[(data['Year'] >= 2010) & (data['Year'] <= 2015) & (data['Rating'] < 6.0) & (data['Revenue (Millions)'] > data['Revenue (Millions)'].quantile(0.95))]"
   ]
  },
  {
   "cell_type": "markdown",
   "metadata": {},
   "source": [
    "# 6. Groupby Opearations"
   ]
  },
  {
   "cell_type": "code",
   "execution_count": null,
   "metadata": {},
   "outputs": [],
   "source": [
    "\"\"\"\n",
    "We can group the data based on one or many columns\n",
    "\"\"\"\n",
    "\n",
    "data.groupby('Director')[['Rating']].mean().head() # group the data by Director and calculate the mean of Rating"
   ]
  },
  {
   "cell_type": "markdown",
   "metadata": {},
   "source": [
    "# 7. Sorting Operations"
   ]
  },
  {
   "cell_type": "code",
   "execution_count": null,
   "metadata": {},
   "outputs": [],
   "source": [
    "\"\"\"\n",
    "We can sort the data decending/ascending order based on one or many columns\n",
    "\"\"\"\n",
    "\n",
    "data.groupby('Director')[['Rating']].mean().sort_values(['Rating'], ascending=False).head() # sort the data by Rating"
   ]
  },
  {
   "cell_type": "markdown",
   "metadata": {},
   "source": [
    "# 8. Missing value"
   ]
  },
  {
   "cell_type": "code",
   "execution_count": null,
   "metadata": {},
   "outputs": [],
   "source": [
    "\"\"\"\n",
    "In the data, missing value is a common problem, we must handle it before processing the data\n",
    "\"\"\"\n",
    "\n",
    "data.isnull().sum() # check the missing value in the data in each columns"
   ]
  },
  {
   "cell_type": "code",
   "execution_count": null,
   "metadata": {},
   "outputs": [],
   "source": [
    "\"\"\"\n",
    "1. Delete the column\n",
    "- Delete entired column if it have too much missing value\n",
    "- Add the paprameter inplace=True to apply the change to the original data\n",
    "- axis=1: delete the column\n",
    "- data.dropna(): delete the row\n",
    "\"\"\"\n",
    "\n",
    "data.drop('Metascore', axis=1).head()"
   ]
  },
  {
   "cell_type": "code",
   "execution_count": null,
   "metadata": {},
   "outputs": [],
   "source": [
    "\"\"\"\n",
    "2. Filling the missing value\n",
    "- We can fill the missing value by using mean, median, mode\n",
    "\"\"\"\n",
    "\n",
    "revenue_mean = data_indexed['Revenue (Millions)'].mean()\n",
    "data_indexed['Revenue (Millions)'].fillna(revenue_mean, inplace=True)"
   ]
  },
  {
   "cell_type": "markdown",
   "metadata": {},
   "source": [
    "# 9. apply() functions"
   ]
  },
  {
   "cell_type": "code",
   "execution_count": null,
   "metadata": {},
   "outputs": [],
   "source": [
    "\"\"\"\n",
    "- We can apply our own function to the data's rows\n",
    "\"\"\"\n",
    "\n",
    "def rating_group(rating):\n",
    "    if rating > 7.5:\n",
    "        return 'Good'\n",
    "    elif rating >= 6.0:\n",
    "        return 'Average'\n",
    "    else:\n",
    "        return 'Bad'\n",
    "    \n",
    "data['Rating Category'] = data['Rating'].apply(rating_group)\n",
    "data.head()"
   ]
  }
 ],
 "metadata": {
  "kernelspec": {
   "display_name": "general-3.11",
   "language": "python",
   "name": "python3"
  },
  "language_info": {
   "codemirror_mode": {
    "name": "ipython",
    "version": 3
   },
   "file_extension": ".py",
   "mimetype": "text/x-python",
   "name": "python",
   "nbconvert_exporter": "python",
   "pygments_lexer": "ipython3",
   "version": "3.11.9"
  }
 },
 "nbformat": 4,
 "nbformat_minor": 2
}
