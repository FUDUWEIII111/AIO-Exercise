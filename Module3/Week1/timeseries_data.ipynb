{
 "cells": [
  {
   "cell_type": "markdown",
   "metadata": {},
   "source": [
    "# Import libraries and read dataset"
   ]
  },
  {
   "cell_type": "code",
   "execution_count": 43,
   "metadata": {},
   "outputs": [],
   "source": [
    "import pandas as pd"
   ]
  },
  {
   "cell_type": "code",
   "execution_count": 44,
   "metadata": {},
   "outputs": [
    {
     "data": {
      "text/html": [
       "<div>\n",
       "<style scoped>\n",
       "    .dataframe tbody tr th:only-of-type {\n",
       "        vertical-align: middle;\n",
       "    }\n",
       "\n",
       "    .dataframe tbody tr th {\n",
       "        vertical-align: top;\n",
       "    }\n",
       "\n",
       "    .dataframe thead th {\n",
       "        text-align: right;\n",
       "    }\n",
       "</style>\n",
       "<table border=\"1\" class=\"dataframe\">\n",
       "  <thead>\n",
       "    <tr style=\"text-align: right;\">\n",
       "      <th></th>\n",
       "      <th>Consumption</th>\n",
       "      <th>Wind</th>\n",
       "      <th>Solar</th>\n",
       "      <th>Wind+Solar</th>\n",
       "      <th>Year</th>\n",
       "      <th>Month</th>\n",
       "      <th>Weekday Name</th>\n",
       "    </tr>\n",
       "    <tr>\n",
       "      <th>Date</th>\n",
       "      <th></th>\n",
       "      <th></th>\n",
       "      <th></th>\n",
       "      <th></th>\n",
       "      <th></th>\n",
       "      <th></th>\n",
       "      <th></th>\n",
       "    </tr>\n",
       "  </thead>\n",
       "  <tbody>\n",
       "    <tr>\n",
       "      <th>2006-01-01</th>\n",
       "      <td>1069.184</td>\n",
       "      <td>NaN</td>\n",
       "      <td>NaN</td>\n",
       "      <td>NaN</td>\n",
       "      <td>2006</td>\n",
       "      <td>1</td>\n",
       "      <td>Sunday</td>\n",
       "    </tr>\n",
       "    <tr>\n",
       "      <th>2006-01-02</th>\n",
       "      <td>1380.521</td>\n",
       "      <td>NaN</td>\n",
       "      <td>NaN</td>\n",
       "      <td>NaN</td>\n",
       "      <td>2006</td>\n",
       "      <td>1</td>\n",
       "      <td>Monday</td>\n",
       "    </tr>\n",
       "    <tr>\n",
       "      <th>2006-01-03</th>\n",
       "      <td>1442.533</td>\n",
       "      <td>NaN</td>\n",
       "      <td>NaN</td>\n",
       "      <td>NaN</td>\n",
       "      <td>2006</td>\n",
       "      <td>1</td>\n",
       "      <td>Tuesday</td>\n",
       "    </tr>\n",
       "  </tbody>\n",
       "</table>\n",
       "</div>"
      ],
      "text/plain": [
       "            Consumption  Wind  Solar  Wind+Solar  Year  Month Weekday Name\n",
       "Date                                                                      \n",
       "2006-01-01     1069.184   NaN    NaN         NaN  2006      1       Sunday\n",
       "2006-01-02     1380.521   NaN    NaN         NaN  2006      1       Monday\n",
       "2006-01-03     1442.533   NaN    NaN         NaN  2006      1      Tuesday"
      ]
     },
     "execution_count": 44,
     "metadata": {},
     "output_type": "execute_result"
    }
   ],
   "source": [
    "dataset_path = 'opsd_germany_daily.csv'\n",
    "\n",
    "opsd_daily = pd.read_csv(dataset_path, index_col='Date', parse_dates=True) #parse_dates=True: convert the 'Date' column to datetime format\n",
    "opsd_daily['Year'] = opsd_daily.index.year\n",
    "opsd_daily['Month'] = opsd_daily.index.month\n",
    "opsd_daily['Weekday Name'] = opsd_daily.index.day_name()    \n",
    "opsd_daily.head(3)"
   ]
  },
  {
   "cell_type": "markdown",
   "metadata": {},
   "source": [
    "# 1. Time-based indexing"
   ]
  },
  {
   "cell_type": "code",
   "execution_count": null,
   "metadata": {},
   "outputs": [],
   "source": [
    "\"\"\"\n",
    "- When processing time series data, pandas can use dates and times for organizing, analyzing and querying data.\n",
    "\"\"\"\n",
    "\n",
    "opsd_daily.loc['2014-01-20' : '2014-01-22'] #select data for a specific range of dates"
   ]
  },
  {
   "cell_type": "code",
   "execution_count": null,
   "metadata": {},
   "outputs": [],
   "source": [
    "\"\"\"\n",
    "- partial-string indexing: select data for a specific month, year, or other period.\n",
    "\"\"\"\n",
    "\n",
    "opsd_daily.loc['2012-02'] #select data for February 2012"
   ]
  },
  {
   "cell_type": "markdown",
   "metadata": {},
   "source": [
    "# 2. Visualizing time-series data"
   ]
  },
  {
   "cell_type": "code",
   "execution_count": null,
   "metadata": {},
   "outputs": [],
   "source": [
    "import matplotlib.pyplot as plt\n",
    "import seaborn as sns"
   ]
  },
  {
   "cell_type": "code",
   "execution_count": null,
   "metadata": {},
   "outputs": [],
   "source": [
    "\"\"\"\n",
    "- sns.set(): a function from seaborn that changes the default matplotlib parameters to make the plots look better.\n",
    "- rc: a dictinary where we can specify the parameter we want to plots.\n",
    "- 'figure.figsize':(11, 4) : the size of the figure in inches, width 11 and height 4.\n",
    "- plot(): a method from pandas that plots the data in the specified column.\n",
    "- linewidth=0.5: the width of the line in the plot.\n",
    "\"\"\"\n",
    "\n",
    "sns.set(rc={'figure.figsize':(11, 4)}) # set the default figure size for matplotlib plots\n",
    "opsd_daily['Consumption'].plot(linewidth=0.5) #plot the time series data"
   ]
  },
  {
   "cell_type": "code",
   "execution_count": null,
   "metadata": {},
   "outputs": [],
   "source": [
    "\"\"\"\n",
    "- cols_plot: a list of the columns we want to plot.\n",
    "- opsd_daily[cols_plot]: select the columns we want to plot.\n",
    "- marker: the symbol used to mark the data points in the plot.\n",
    "- alpha: the transparency of the data points to 50% to avoid overplotting.\n",
    "- linestyle: 'None' to remove the line connecting the data points.\n",
    "- subplots=True: create a separate plot for each column.\n",
    "\"\"\"\n",
    "\n",
    "cols_plot = ['Consumption', 'Solar', 'Wind'] \n",
    "axes = opsd_daily[cols_plot].plot(marker='.', alpha=0.5, linestyle='None', figsize=(11, 9), subplots=True)\n",
    "for axe in axes:\n",
    "    axe.set_ylabel('Daily Totals (GWh)')\n",
    "plt.show()"
   ]
  },
  {
   "cell_type": "markdown",
   "metadata": {},
   "source": [
    "# 3. Seasonality"
   ]
  },
  {
   "cell_type": "code",
   "execution_count": null,
   "metadata": {},
   "outputs": [],
   "source": [
    "custom_palette = ['#FF9999', '#FFB266', '#CCCC66', '#99CC66', '#66CC66', '#66CCCC', '#6699CC', '#9999CC', '#CC99CC', '#FF99CC', '#FF6666', '#FF9966']\n",
    "\n",
    "fig, axes = plt.subplots(3, 1, figsize=(11, 10), sharex=True)\n",
    "for name, ax in zip(['Consumption', 'Solar', 'Wind'], axes):\n",
    "    sns.boxplot(data=opsd_daily, x='Month', y=name, ax=ax, palette=custom_palette)\n",
    "    ax.set_ylabel('GWh')\n",
    "    ax.set_title(name)\n",
    "    if ax != axes[-1]:\n",
    "        ax.set_xlabel('')"
   ]
  },
  {
   "cell_type": "markdown",
   "metadata": {},
   "source": [
    "# 4. Frequencies"
   ]
  },
  {
   "cell_type": "code",
   "execution_count": null,
   "metadata": {},
   "outputs": [],
   "source": [
    "pd.date_range('1998-03-10', '1998-03-15', freq='D') # create a range of dates from 1998-03-10 to 1998-03-15"
   ]
  },
  {
   "cell_type": "code",
   "execution_count": null,
   "metadata": {},
   "outputs": [],
   "source": [
    "\"\"\"\n",
    "- forward fill: fill missing values with the last known value.\n",
    "\"\"\"\n",
    "\n",
    "times_sample = pd.to_datetime(['2013-02-03', '2013-02-06', '2013-02-08'])\n",
    "consum_sample = opsd_daily.loc[times_sample, ['Consumption']].copy()\n",
    "consum_sample"
   ]
  },
  {
   "cell_type": "code",
   "execution_count": null,
   "metadata": {},
   "outputs": [],
   "source": [
    "consum_freg = consum_sample.asfreq('D') # fill missing values with NaN\n",
    "consum_freg['Consumption - Forward Fill'] = consum_sample.asfreq('D', method='ffill')\n",
    "consum_freg"
   ]
  },
  {
   "cell_type": "markdown",
   "metadata": {},
   "source": [
    "# 5. Resampling"
   ]
  },
  {
   "cell_type": "code",
   "execution_count": null,
   "metadata": {},
   "outputs": [],
   "source": [
    "\"\"\"\n",
    "- resampling: teachnique to change the frequency of the time series data (ex: from day to month).\n",
    "    + 'D': daily frequency\n",
    "    + 'W': weekly frequency\n",
    "    + 'M': monthly frequency\n",
    "    + 'A': annual frequency\n",
    "- resampling for lower frequency (downsampling): aggregation of the data.\n",
    "- resampling for higher frequency (upsampling): interpolation of the data.\n",
    "\"\"\"\n",
    "\n",
    "data_columns = ['Consumption', 'Wind', 'Solar', 'Wind+Solar']\n",
    "opsd_weekly_mean = opsd_daily[data_columns].resample('W').mean()\n",
    "opsd_weekly_mean.head(3)"
   ]
  },
  {
   "cell_type": "code",
   "execution_count": null,
   "metadata": {},
   "outputs": [],
   "source": [
    "\"\"\"\n",
    "- Weekly resampling: the mean of the data for each week.\n",
    "\"\"\"\n",
    "\n",
    "start, end = '2017-01', '2017-06'\n",
    "fig, ax = plt.subplots()\n",
    "ax.plot(opsd_daily.loc[start:end, 'Solar'], marker='.', linestyle='-', linewidth=0.5, label='Daily')\n",
    "ax.plot(opsd_weekly_mean.loc[start:end, 'Solar'], marker='o', markersize=8, linestyle='-', label='Weekly Mean Resample')\n",
    "ax.set_ylabel(\"Solar Production (GWh)\")\n",
    "ax.legend() # add a legend (a box that identifies the different elements of the \n",
    "            # plot, such as lines, markers, or other plot elements) to the plot\n",
    "plt.show()"
   ]
  },
  {
   "cell_type": "code",
   "execution_count": null,
   "metadata": {},
   "outputs": [],
   "source": [
    "\"\"\"\n",
    "- Yearly resampling: the sum of the data for each year.\n",
    "\"\"\"\n",
    "\n",
    "opsd_annual = opsd_daily[data_columns].resample('YE').sum(min_count=360) # min_count=360: require that many non-NA values for the result to be non-NA\n",
    "opsd_annual = opsd_annual.set_index(opsd_annual.index.year)\n",
    "opsd_annual.index.name = 'Year'\n",
    "opsd_annual['Wind+Solar/Consumption'] = opsd_annual['Wind+Solar'] / opsd_annual['Consumption']\n",
    "opsd_annual.tail(3)"
   ]
  },
  {
   "cell_type": "code",
   "execution_count": null,
   "metadata": {},
   "outputs": [],
   "source": [
    "ax = opsd_annual.loc[2012:, 'Wind+Solar/Consumption'].plot.bar(color='C0')\n",
    "ax.set_ylabel('Fraction')\n",
    "ax.set_ylim(0, 0.3) # set the y-axis limits to 0-30% (limits are 0-1 by default)\n",
    "ax.set_title('Wind + Solar Share of Annual Electricity Consumption')\n",
    "plt.xticks(rotation=0) # rotate the x-axis labels to be horizontal"
   ]
  },
  {
   "cell_type": "markdown",
   "metadata": {},
   "source": [
    "# 7. Rolling Windowns"
   ]
  },
  {
   "cell_type": "code",
   "execution_count": null,
   "metadata": {},
   "outputs": [],
   "source": [
    "\"\"\"\n",
    "- Rolling windows: \n",
    "    + a common technique for smoothing time series data by divide the data into time windowns.\n",
    "    + different with downsampling where the data is not overlap each other and the output have a lower frequency, \n",
    "      rolling windows have overlapping data and the output have the same frequency as the input.\n",
    "\"\"\"\n",
    "\n",
    "opsd_7d = opsd_daily[data_columns].rolling(7, center=True).mean() # calculate the rolling mean with a window size of 7 days\n",
    "opsd_7d.head(10)"
   ]
  },
  {
   "cell_type": "markdown",
   "metadata": {},
   "source": [
    "# 7. Trends"
   ]
  },
  {
   "cell_type": "code",
   "execution_count": null,
   "metadata": {},
   "outputs": [],
   "source": [
    "\"\"\"\n",
    "- trends: \n",
    "    + a feature of time series data that represents the general direction in which the data is moving.\n",
    "    + with rolling windows, we can smooth the data to better identify trends.\n",
    "\"\"\"\n",
    "\n",
    "import matplotlib.dates as mdates\n",
    "opsd_365d = opsd_daily[data_columns].rolling(window=365, center=True, min_periods=360).mean()\n",
    "\n",
    "#Plot daily, 7-day rolling mean, and 365-day rolling mean time series data\n",
    "fig, ax = plt.subplots() # create a figure and a set of subplots\n",
    "ax.plot(opsd_daily['Consumption'], marker='.', markersize=2, color='0.6', linestyle='None', label='Daily') \n",
    "ax.plot(opsd_7d['Consumption'], linewidth=2, label='7-d Rolling Mean')\n",
    "ax.plot(opsd_365d['Consumption'], color='0.2', linewidth=3, label='Trend (365-d Rolling Mean)')\n",
    "\n",
    "#Set x-ticks to yearly interval and add legend and labels\n",
    "ax.xaxis.set_major_locator(mdates.YearLocator()) # set x-ticks to yearly interval\n",
    "ax.legend() # add a legend to the plot\n",
    "ax.set_xlabel('Year') # set the x-axis label\n",
    "ax.set_ylabel('Consumption (GWh)') # set the y-axis label\n",
    "ax.set_title('Trends in Electricity Consumption') # set the title of the plot\n",
    "plt.show()\n"
   ]
  },
  {
   "cell_type": "code",
   "execution_count": null,
   "metadata": {},
   "outputs": [],
   "source": [
    "# plot 365-day rolling mean time series data of wind and solar power\n",
    "fig, ax = plt.subplots()\n",
    "for nm in ['Wind', 'Solar', 'Wind+Solar']:\n",
    "    ax.plot(opsd_365d[nm], label=nm)\n",
    "    ax.xaxis.set_major_locator(mdates.YearLocator())\n",
    "    ax.legend()\n",
    "    ax.set_ylabel('Production (GWh)')\n",
    "    ax.set_title('Trends in Electricity Production (365-d Rolling Means)')\n",
    "plt.show()"
   ]
  },
  {
   "cell_type": "code",
   "execution_count": 48,
   "metadata": {},
   "outputs": [
    {
     "data": {
      "text/plain": [
       "Date\n",
       "2006-01-01       NaN\n",
       "2006-01-02       NaN\n",
       "2006-01-03       NaN\n",
       "2006-01-04       NaN\n",
       "2006-01-05       NaN\n",
       "               ...  \n",
       "2017-12-27    16.530\n",
       "2017-12-28    14.162\n",
       "2017-12-29    29.854\n",
       "2017-12-30     7.467\n",
       "2017-12-31    19.980\n",
       "Name: Solar, Length: 4383, dtype: float64"
      ]
     },
     "execution_count": 48,
     "metadata": {},
     "output_type": "execute_result"
    }
   ],
   "source": [
    "opsd_daily['Solar']"
   ]
  },
  {
   "cell_type": "code",
   "execution_count": null,
   "metadata": {},
   "outputs": [],
   "source": []
  }
 ],
 "metadata": {
  "kernelspec": {
   "display_name": "general-3.11",
   "language": "python",
   "name": "python3"
  },
  "language_info": {
   "codemirror_mode": {
    "name": "ipython",
    "version": 3
   },
   "file_extension": ".py",
   "mimetype": "text/x-python",
   "name": "python",
   "nbconvert_exporter": "python",
   "pygments_lexer": "ipython3",
   "version": "3.11.9"
  }
 },
 "nbformat": 4,
 "nbformat_minor": 2
}
